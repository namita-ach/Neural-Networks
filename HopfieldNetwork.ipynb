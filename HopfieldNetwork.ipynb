{
  "nbformat": 4,
  "nbformat_minor": 0,
  "metadata": {
    "colab": {
      "provenance": []
    },
    "kernelspec": {
      "name": "python3",
      "display_name": "Python 3"
    },
    "language_info": {
      "name": "python"
    }
  },
  "cells": [
    {
      "cell_type": "code",
      "source": [
        "import numpy as np\n",
        "import matplotlib.pyplot as plt"
      ],
      "metadata": {
        "id": "dYxNx5SWD0zB"
      },
      "execution_count": 1,
      "outputs": []
    },
    {
      "cell_type": "code",
      "source": [
        "class HopfieldNetwork:\n",
        "    def __init__(self, num_neurons):\n",
        "        self.num_neurons = num_neurons\n",
        "        self.weights = np.zeros((num_neurons, num_neurons))\n",
        "\n",
        "    def train(self, patterns):\n",
        "        # Train the Hopfield network with given patterns\n",
        "        for pattern in patterns:\n",
        "            pattern = pattern.reshape(-1, 1)  # Reshape for matrix multiplication\n",
        "            self.weights += np.dot(pattern, pattern.T)  # Outer product\n",
        "        np.fill_diagonal(self.weights, 0)  # No self-connections\n",
        "        '''The train method uses the outer product of the input patterns to create the weight matrix, ensuring that the diagonal is zero to prevent self-connections.'''\n",
        "\n",
        "    def recall(self, pattern, steps=5):\n",
        "        # Recall a pattern using the Hopfield network\n",
        "        pattern = pattern.copy()\n",
        "        for _ in range(steps):\n",
        "            for i in range(self.num_neurons): # Update the state of neuron i\n",
        "                activation = np.dot(self.weights[i], pattern)\n",
        "                pattern[i] = 1 if activation > 0 else -1  # Binary activation\n",
        "        return pattern\n",
        "        ''' The recall method updates the state of each neuron based on the weighted sum of its inputs over a specified number of steps.'''"
      ],
      "metadata": {
        "id": "2mVaC549D8Tu"
      },
      "execution_count": 10,
      "outputs": []
    },
    {
      "cell_type": "code",
      "source": [
        "def generate_synthetic_data(num_patterns, pattern_size):\n",
        "    # Generate synthetic binary patterns\n",
        "    patterns = np.random.choice([-1, 1], size=(num_patterns, pattern_size))\n",
        "    return patterns"
      ],
      "metadata": {
        "id": "M7ZW-rirEHKc"
      },
      "execution_count": 11,
      "outputs": []
    },
    {
      "cell_type": "code",
      "source": [
        "# Now just set the parameters\n",
        "num_patterns = 5\n",
        "pattern_size = 10"
      ],
      "metadata": {
        "id": "Etv3y60DELh2"
      },
      "execution_count": 12,
      "outputs": []
    },
    {
      "cell_type": "code",
      "source": [
        "# Then generate synthetic data\n",
        "patterns = generate_synthetic_data(num_patterns, pattern_size)"
      ],
      "metadata": {
        "id": "j25JJXoUEPxT"
      },
      "execution_count": 13,
      "outputs": []
    },
    {
      "cell_type": "code",
      "source": [
        "# Now we create and train Hopfield network\n",
        "hopfield_net = HopfieldNetwork(num_neurons=pattern_size)\n",
        "hopfield_net.train(patterns)"
      ],
      "metadata": {
        "id": "Q5kv7bFiETaq"
      },
      "execution_count": 14,
      "outputs": []
    },
    {
      "cell_type": "code",
      "source": [
        "# Test the network with a noisy version of one of the patterns just because we can\n",
        "test_pattern = patterns[0].copy()\n",
        "test_pattern[2] = -test_pattern[2]  # Introduce noise\n",
        "print(\"Test Pattern (with noise):\", test_pattern)"
      ],
      "metadata": {
        "colab": {
          "base_uri": "https://localhost:8080/"
        },
        "id": "wcSX3efJEXO1",
        "outputId": "5a7a085d-5c17-4d53-caca-c09524c56482"
      },
      "execution_count": 15,
      "outputs": [
        {
          "output_type": "stream",
          "name": "stdout",
          "text": [
            "Test Pattern (with noise): [ 1  1 -1 -1 -1  1 -1 -1 -1  1]\n"
          ]
        }
      ]
    },
    {
      "cell_type": "code",
      "source": [
        "# Recall the pattern\n",
        "recalled_pattern = hopfield_net.recall(test_pattern)\n",
        "print(\"Recalled Pattern:\", recalled_pattern)"
      ],
      "metadata": {
        "colab": {
          "base_uri": "https://localhost:8080/"
        },
        "id": "LXI_fOLlEahy",
        "outputId": "adc29801-e88c-44fc-d6b3-12a7709ab120"
      },
      "execution_count": 16,
      "outputs": [
        {
          "output_type": "stream",
          "name": "stdout",
          "text": [
            "Recalled Pattern: [ 1  1  1 -1 -1  1 -1 -1 -1  1]\n"
          ]
        }
      ]
    },
    {
      "cell_type": "code",
      "source": [
        "# OH MY GOD THAT WAS SO COOL\n",
        "\n",
        "# We visualize now\n",
        "plt.figure(figsize=(12, 4))\n",
        "plt.subplot(1, 2, 1)\n",
        "plt.title(\"Original Pattern\")\n",
        "plt.imshow(patterns[0].reshape(1, -1), cmap='gray', aspect='auto')\n",
        "plt.subplot(1, 2, 2)\n",
        "plt.title(\"Recalled Pattern\")\n",
        "plt.imshow(recalled_pattern.reshape(1, -1), cmap='gray', aspect='auto')\n",
        "plt.show()"
      ],
      "metadata": {
        "colab": {
          "base_uri": "https://localhost:8080/",
          "height": 391
        },
        "id": "27DF9uXoEdJb",
        "outputId": "65333bfb-2348-4df4-c7ab-ba562cb1713b"
      },
      "execution_count": 17,
      "outputs": [
        {
          "output_type": "display_data",
          "data": {
            "text/plain": [
              "<Figure size 1200x400 with 2 Axes>"
            ],
            "image/png": "[encoded data removed]"
          },
          "metadata": {}
        }
      ]
    },
    {
      "cell_type": "code",
      "source": [],
      "metadata": {
        "id": "hETy0TNAEkyi"
      },
      "execution_count": null,
      "outputs": []
    }
  ]
}