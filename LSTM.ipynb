{
  "nbformat": 4,
  "nbformat_minor": 0,
  "metadata": {
    "colab": {
      "provenance": []
    },
    "kernelspec": {
      "name": "python3",
      "display_name": "Python 3"
    },
    "language_info": {
      "name": "python"
    }
  },
  "cells": [
    {
      "cell_type": "code",
      "source": [
        "import numpy as np\n",
        "import matplotlib.pyplot as plt"
      ],
      "metadata": {
        "id": "dYxNx5SWD0zB"
      },
      "execution_count": 51,
      "outputs": []
    },
    {
      "cell_type": "code",
      "source": [
        "def sigmoid(x):\n",
        "    return 1 / (1 + np.exp(-x))"
      ],
      "metadata": {
        "id": "5-IZIX2KrpDJ"
      },
      "execution_count": 52,
      "outputs": []
    },
    {
      "cell_type": "code",
      "source": [
        "class LSTMCell:\n",
        "    def __init__(self, input_size, hidden_size):\n",
        "        self.input_size = input_size\n",
        "        self.hidden_size = hidden_size\n",
        "\n",
        "        # Initialize weights and biases\n",
        "        self.Wf = np.random.randn(hidden_size, input_size + hidden_size)\n",
        "        self.Wi = np.random.randn(hidden_size, input_size + hidden_size)\n",
        "        self.Wo = np.random.randn(hidden_size, input_size + hidden_size)\n",
        "        self.Wc = np.random.randn(hidden_size, input_size + hidden_size)\n",
        "\n",
        "        self.bf = np.zeros((hidden_size, 1))\n",
        "        self.bi = np.zeros((hidden_size, 1))\n",
        "        self.bo = np.zeros((hidden_size, 1))\n",
        "        self.bc = np.zeros((hidden_size, 1))\n",
        "\n",
        "    def forward(self, x, h_prev, c_prev):\n",
        "        # Concatenate input and previous hidden state\n",
        "        concat = np.concatenate((h_prev, x), axis=0)\n",
        "\n",
        "        # Compute gates and candidate cell state\n",
        "        f = sigmoid(np.dot(self.Wf, concat) + self.bf)\n",
        "        i = sigmoid(np.dot(self.Wi, concat) + self.bi)\n",
        "        o = sigmoid(np.dot(self.Wo, concat) + self.bo)\n",
        "        c_tilde = np.tanh(np.dot(self.Wc, concat) + self.bc)\n",
        "\n",
        "        # Update cell state and hidden state\n",
        "        c = f * c_prev + i * c_tilde\n",
        "        h = o * np.tanh(c)\n",
        "\n",
        "        return h, c"
      ],
      "metadata": {
        "id": "fniR8aj7rdc9"
      },
      "execution_count": 61,
      "outputs": []
    },
    {
      "cell_type": "code",
      "source": [
        "# Define the vocabulary\n",
        "vocab = {'I': 0, 'love': 1, 'deep': 2, 'learning': 3}\n",
        "vocab_size = len(vocab)"
      ],
      "metadata": {
        "id": "Zbtg7a0OrxSz"
      },
      "execution_count": 62,
      "outputs": []
    },
    {
      "cell_type": "code",
      "source": [
        "# Sentence to process\n",
        "sentence = \"I love deep learning\""
      ],
      "metadata": {
        "id": "Et5O2_Jsrxo0"
      },
      "execution_count": 63,
      "outputs": []
    },
    {
      "cell_type": "code",
      "source": [
        "# Initialize LSTM cell\n",
        "lstm = LSTMCell(vocab_size, 10)"
      ],
      "metadata": {
        "id": "rOnrcdK6r1Ca"
      },
      "execution_count": 64,
      "outputs": []
    },
    {
      "cell_type": "code",
      "source": [
        "# Initialize hidden state and cell state\n",
        "h = np.zeros((10, 1))\n",
        "c = np.zeros((10, 1))"
      ],
      "metadata": {
        "id": "9otV1QFSr1Mu"
      },
      "execution_count": 65,
      "outputs": []
    },
    {
      "cell_type": "code",
      "source": [
        "# Store hidden states for visualization\n",
        "hidden_states = []"
      ],
      "metadata": {
        "id": "BStnTDmzsa4x"
      },
      "execution_count": 66,
      "outputs": []
    },
    {
      "cell_type": "code",
      "source": [
        "# Process the sentence\n",
        "for word in sentence.split():\n",
        "    # Convert word to one-hot encoding\n",
        "    x = np.zeros((vocab_size, 1))\n",
        "    x[vocab[word]] = 1\n",
        "\n",
        "    # Forward pass through LSTM cell\n",
        "    h, c = lstm.forward(x, h, c)\n",
        "\n",
        "    # Store the hidden state for visualization\n",
        "    hidden_states.append(h.flatten())\n",
        "\n",
        "    # Print the hidden state\n",
        "    print(f\"Word: {word}\\n Hidden State: {h.T}\\n\")"
      ],
      "metadata": {
        "colab": {
          "base_uri": "https://localhost:8080/"
        },
        "id": "403lNl7xr3kg",
        "outputId": "b60fce22-290b-46b9-c637-a6c7c9f43d47"
      },
      "execution_count": 67,
      "outputs": [
        {
          "output_type": "stream",
          "name": "stdout",
          "text": [
            "Word: I\n",
            " Hidden State: [[ 0.01857495 -0.03546422  0.17429513  0.02932181 -0.07155253 -0.04887262\n",
            "   0.0797293  -0.05098656  0.07566955 -0.07868071]]\n",
            "\n",
            "Word: love\n",
            " Hidden State: [[ 0.11182444 -0.04419516 -0.01757879 -0.19711516 -0.33614225 -0.31560288\n",
            "   0.11502736 -0.08163722  0.40591451  0.05088666]]\n",
            "\n",
            "Word: deep\n",
            " Hidden State: [[ 0.13293759 -0.04186572 -0.10502941 -0.27068892 -0.07045424 -0.10609598\n",
            "   0.22487618  0.10015639  0.23988284  0.32077691]]\n",
            "\n",
            "Word: learning\n",
            " Hidden State: [[ 0.03025343 -0.15846042  0.00277063 -0.0852842   0.00595023 -0.06451884\n",
            "   0.03500239  0.41298422  0.30680799 -0.2491493 ]]\n",
            "\n"
          ]
        }
      ]
    },
    {
      "cell_type": "code",
      "source": [
        "# Convert hidden states to a NumPy array for plotting\n",
        "hidden_states = np.array(hidden_states)"
      ],
      "metadata": {
        "id": "X7aj_TP4r3S9"
      },
      "execution_count": 68,
      "outputs": []
    },
    {
      "cell_type": "code",
      "source": [
        "plt.figure(figsize=(10, 6))\n",
        "plt.imshow(hidden_states, aspect='auto', cmap='viridis')\n",
        "plt.colorbar(label='Hidden State Value')\n",
        "plt.xticks(ticks=np.arange(vocab_size), labels=vocab.keys())\n",
        "plt.yticks(ticks=np.arange(len(sentence.split())), labels=sentence.split())\n",
        "plt.title('Hidden States of LSTM for Each Word')\n",
        "plt.xlabel('Words')\n",
        "plt.ylabel('Hidden State Dimensions')\n",
        "plt.show()"
      ],
      "metadata": {
        "colab": {
          "base_uri": "https://localhost:8080/",
          "height": 564
        },
        "id": "Lo9ySv_BsFQI",
        "outputId": "7f8a15b1-7a8f-4aea-b891-d19735f9672e"
      },
      "execution_count": 69,
      "outputs": [
        {
          "output_type": "display_data",
          "data": {
            "text/plain": [
              "<Figure size 1000x600 with 2 Axes>"
            ],
            "image/png": "[encoded data removed]"
          },
          "metadata": {}
        }
      ]
    },
    {
      "cell_type": "code",
      "source": [],
      "metadata": {
        "id": "HAwYGVLnsj-v"
      },
      "execution_count": null,
      "outputs": []
    }
  ]
}