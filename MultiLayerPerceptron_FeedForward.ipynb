{
  "nbformat": 4,
  "nbformat_minor": 0,
  "metadata": {
    "colab": {
      "provenance": []
    },
    "kernelspec": {
      "name": "python3",
      "display_name": "Python 3"
    },
    "language_info": {
      "name": "python"
    }
  },
  "cells": [
    {
      "cell_type": "code",
      "source": [
        "import numpy as np\n",
        "import pandas as pd\n",
        "from sklearn.datasets import make_classification\n",
        "from sklearn.model_selection import train_test_split\n",
        "from sklearn.metrics import accuracy_score, confusion_matrix\n",
        "import matplotlib.pyplot as plt\n",
        "import seaborn as sns"
      ],
      "metadata": {
        "id": "GgItbCgiIqJi"
      },
      "execution_count": 33,
      "outputs": []
    },
    {
      "cell_type": "code",
      "source": [
        "def sigmoid(x):\n",
        "    return 1 / (1 + np.exp(-x))"
      ],
      "metadata": {
        "id": "jgT2n_vsb2Zc"
      },
      "execution_count": 18,
      "outputs": []
    },
    {
      "cell_type": "code",
      "source": [
        "def sigmoid_derivative(x):\n",
        "    return x * (1 - x)"
      ],
      "metadata": {
        "id": "DItBusf8cC19"
      },
      "execution_count": 22,
      "outputs": []
    },
    {
      "cell_type": "code",
      "source": [
        "def tanh(x):\n",
        "    return np.tanh(x)"
      ],
      "metadata": {
        "id": "UHWI42-Mb5Au"
      },
      "execution_count": 19,
      "outputs": []
    },
    {
      "cell_type": "code",
      "source": [
        "def tanh_derivative(x):\n",
        "    return 1.0 - np.tanh(x)**2"
      ],
      "metadata": {
        "id": "mo79V5LncEhu"
      },
      "execution_count": 23,
      "outputs": []
    },
    {
      "cell_type": "code",
      "source": [
        "def relu(x):\n",
        "    return np.maximum(0, x)"
      ],
      "metadata": {
        "id": "WzlSOaUPb6UE"
      },
      "execution_count": 20,
      "outputs": []
    },
    {
      "cell_type": "code",
      "source": [
        "def relu_derivative(x):\n",
        "    return np.where(x > 0, 1, 0)"
      ],
      "metadata": {
        "id": "6f106nircGK3"
      },
      "execution_count": 24,
      "outputs": []
    },
    {
      "cell_type": "code",
      "source": [
        "# MLP Class\n",
        "class MLP:\n",
        "    def __init__(self, input_size, hidden_size, output_size, activation='relu'):\n",
        "        # Init the weights and biases\n",
        "        self.weights_input_hidden = np.random.randn(input_size, hidden_size)\n",
        "        self.bias_hidden = np.zeros((1, hidden_size))\n",
        "        self.weights_hidden_output = np.random.randn(hidden_size, output_size)\n",
        "        self.bias_output = np.zeros((1, output_size))\n",
        "\n",
        "        # Setting activation function\n",
        "        self.activation = activation\n",
        "        self.activation_function = relu if activation == 'relu' else sigmoid\n",
        "        self.activation_derivative = relu_derivative if activation == 'relu' else sigmoid_derivative\n",
        "\n",
        "    def forward(self, X):\n",
        "        self.input_layer = X\n",
        "        self.hidden_layer = self.activation_function(np.dot(X, self.weights_input_hidden) + self.bias_hidden)\n",
        "        self.output_layer = sigmoid(np.dot(self.hidden_layer, self.weights_hidden_output) + self.bias_output)\n",
        "        return self.output_layer\n",
        "\n",
        "    def backward(self, X, y, learning_rate):\n",
        "        # Calculating error\n",
        "        output_error = self.output_layer - y\n",
        "        output_delta = output_error * sigmoid_derivative(self.output_layer)\n",
        "\n",
        "        hidden_error = output_delta.dot(self.weights_hidden_output.T)\n",
        "        hidden_delta = hidden_error * self.activation_derivative(self.hidden_layer)\n",
        "\n",
        "        # Updating weights and biases\n",
        "        self.weights_hidden_output -= self.hidden_layer.T.dot(output_delta) * learning_rate\n",
        "        self.bias_output -= np.sum(output_delta, axis=0, keepdims=True) * learning_rate\n",
        "        self.weights_input_hidden -= X.T.dot(hidden_delta) * learning_rate\n",
        "        self.bias_hidden -= np.sum(hidden_delta, axis=0, keepdims=True) * learning_rate\n",
        "\n",
        "    def train(self, X, y, epochs, learning_rate):\n",
        "        for _ in range(epochs):\n",
        "            self.forward(X)\n",
        "            self.backward(X, y, learning_rate)\n",
        "\n",
        "    def predict(self, X):\n",
        "        return self.forward(X)"
      ],
      "metadata": {
        "id": "RybbbC1Cb7di"
      },
      "execution_count": 27,
      "outputs": []
    },
    {
      "cell_type": "code",
      "source": [
        "# Generating synthetic data\n",
        "X, y = make_classification(n_samples=1000, n_features=20, n_classes=2, random_state=42)\n",
        "y = y.reshape(-1, 1)"
      ],
      "metadata": {
        "id": "aX_CN_LXb_Qv"
      },
      "execution_count": 28,
      "outputs": []
    },
    {
      "cell_type": "code",
      "source": [
        "# spliting for training and testing\n",
        "X_train, X_test, y_train, y_test = train_test_split(X, y, test_size=0.2, random_state=42)"
      ],
      "metadata": {
        "id": "7n9hB7IMcKgz"
      },
      "execution_count": 29,
      "outputs": []
    },
    {
      "cell_type": "code",
      "source": [
        "# creating and training our MLP model\n",
        "input_size = X_train.shape[1]\n",
        "hidden_size = 10\n",
        "output_size = 1\n",
        "mlp = MLP(input_size, hidden_size, output_size, activation='relu') #try experimenting with diff activation fucntions\n",
        "mlp.train(X_train, y_train, epochs=1000, learning_rate=0.01)"
      ],
      "metadata": {
        "id": "BIAOnoMacTp7"
      },
      "execution_count": 31,
      "outputs": []
    },
    {
      "cell_type": "code",
      "source": [
        "# Predicting and evaluating\n",
        "y_pred = mlp.predict(X_test)\n",
        "y_pred_class = (y_pred > 0.5).astype(int)\n",
        "accuracy = accuracy_score(y_test, y_pred_class)"
      ],
      "metadata": {
        "id": "tBr-tp8ccXcq"
      },
      "execution_count": 34,
      "outputs": []
    },
    {
      "cell_type": "code",
      "source": [
        "# settign up the confusion matrix\n",
        "cm = confusion_matrix(y_test, y_pred_class)"
      ],
      "metadata": {
        "id": "lrZwhCGpcenU"
      },
      "execution_count": 37,
      "outputs": []
    },
    {
      "cell_type": "code",
      "source": [
        "plt.figure(figsize=(12, 6))\n",
        "sns.heatmap(cm, annot=True, fmt='d', cmap='Blues', cbar=False)\n",
        "plt.title('Confusion Matrix')\n",
        "plt.xlabel('Predicted')\n",
        "plt.ylabel('True')\n",
        "\n",
        "plt.tight_layout()\n",
        "plt.show()"
      ],
      "metadata": {
        "colab": {
          "base_uri": "https://localhost:8080/",
          "height": 607
        },
        "id": "y4Vul228cs7a",
        "outputId": "780b7b88-f80f-429b-d207-e476c9df3d34"
      },
      "execution_count": 40,
      "outputs": [
        {
          "output_type": "display_data",
          "data": {
            "text/plain": [
              "<Figure size 1200x600 with 1 Axes>"
            ],
            "image/png": "[encoded data removed]"
          },
          "metadata": {}
        }
      ]
    },
    {
      "cell_type": "code",
      "source": [
        "print(f'Accuracy: {accuracy:.2f}')"
      ],
      "metadata": {
        "colab": {
          "base_uri": "https://localhost:8080/"
        },
        "id": "-_dcX743dA2s",
        "outputId": "316c84ac-6e2d-4ce7-96a4-754336dbf753"
      },
      "execution_count": 41,
      "outputs": [
        {
          "output_type": "stream",
          "name": "stdout",
          "text": [
            "Accuracy: 0.81\n"
          ]
        }
      ]
    },
    {
      "cell_type": "code",
      "source": [],
      "metadata": {
        "id": "YJMcHiymdOD7"
      },
      "execution_count": null,
      "outputs": []
    }
  ]
}