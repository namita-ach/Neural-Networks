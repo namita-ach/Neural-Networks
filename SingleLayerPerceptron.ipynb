{
  "nbformat": 4,
  "nbformat_minor": 0,
  "metadata": {
    "colab": {
      "provenance": []
    },
    "kernelspec": {
      "name": "python3",
      "display_name": "Python 3"
    },
    "language_info": {
      "name": "python"
    }
  },
  "cells": [
    {
      "cell_type": "markdown",
      "source": [
        "## The Single Layer Perceptron\n",
        "\n",
        "The perceptron operates as a binary classifier using a threshold function. Here’s a step-by-step breakdown:\n",
        "\n",
        "1. **Input Vector and Weight Vector**\n",
        "\n",
        "   The perceptron starts with an input vector \\(\\mathbf{x}\\) and a weight vector \\(\\mathbf{w}\\). The weights represent the importance of each component of the input vector. The weighted sum is calculated as follows:\n",
        "\n",
        "   \\[\n",
        "   z = \\mathbf{w} \\cdot \\mathbf{x} + b\n",
        "   \\]\n",
        "\n",
        "   where \\(b\\) is the bias term, which adjusts the decision boundary.\n",
        "\n",
        "2. **Weighted Sum**\n",
        "\n",
        "   The weighted sum \\(z\\) is computed as the dot product of \\(\\mathbf{x}\\) and \\(\\mathbf{w}\\), plus the bias \\(b\\):\n",
        "\n",
        "   \\[\n",
        "   z = \\sum_{i=1}^{n} w_i x_i + b\n",
        "   \\]\n",
        "\n",
        "   The result \\(z\\) is a scalar that represents the combined input.\n",
        "\n",
        "3. **Threshold Function**\n",
        "\n",
        "   The scalar output \\(z\\) is then passed through a threshold function to produce a binary output. The threshold function used here is the Heaviside step function. The function is defined as:\n",
        "\n",
        "   \\[\n",
        "   f(z) =\n",
        "   \\begin{cases}\n",
        "   1 & \\text{if } z \\geq 0 \\\\\n",
        "   0 & \\text{if } z < 0\n",
        "   \\end{cases}\n",
        "   \\]\n",
        "\n",
        "   This function acts as a decision boundary, firing if \\(z\\) is above the threshold and not firing otherwise. It’s analogous to how our brain’s neurons work: if the input surpasses a certain threshold, the neuron fires."
      ],
      "metadata": {
        "id": "59BPb84kJGB0"
      }
    },
    {
      "cell_type": "code",
      "source": [
        "import numpy as np\n",
        "import pandas as pd\n",
        "import matplotlib.pyplot as plt"
      ],
      "metadata": {
        "id": "_xmv_St_H_z8"
      },
      "execution_count": 8,
      "outputs": []
    },
    {
      "cell_type": "code",
      "source": [
        "# Generate linearly separable data first- that's the only kind of data the perceptron works with\n",
        "def generate_data(n_samples=100):\n",
        "    np.random.seed(0)\n",
        "    X = np.random.randn(n_samples, 2)\n",
        "    y = (X[:, 0] + X[:, 1] > 0).astype(int)\n",
        "    return X, y"
      ],
      "metadata": {
        "id": "uNO5ZGr5IB5K"
      },
      "execution_count": 9,
      "outputs": []
    },
    {
      "cell_type": "code",
      "source": [
        "# something to plot the decision boundary when we're done\n",
        "def decision_boundary(X, y, model):\n",
        "    plt.scatter(X[y == 0, 0], X[y == 0, 1], color='red', marker='o', label='Class 0')\n",
        "    plt.scatter(X[y == 1, 0], X[y == 1, 1], color='blue', marker='x', label='Class 1')\n",
        "\n",
        "    x_min, x_max = X[:, 0].min() - 1, X[:, 0].max() + 1\n",
        "    y_min, y_max = X[:, 1].min() - 1, X[:, 1].max() + 1\n",
        "    xx, yy = np.meshgrid(np.linspace(x_min, x_max, 100),\n",
        "                         np.linspace(y_min, y_max, 100))\n",
        "    Z = model.predict(np.c_[xx.ravel(), yy.ravel()])\n",
        "    Z = Z.reshape(xx.shape)\n",
        "    plt.contourf(xx, yy, Z, alpha=0.3, cmap=plt.cm.bwr)\n",
        "    plt.xlabel('Feature 1')\n",
        "    plt.ylabel('Feature 2')\n",
        "    plt.title('Perceptron Decision Boundary')\n",
        "    plt.legend(loc='best')\n",
        "    plt.show()"
      ],
      "metadata": {
        "id": "bMa4bvZCIULD"
      },
      "execution_count": 10,
      "outputs": []
    },
    {
      "cell_type": "code",
      "execution_count": 11,
      "metadata": {
        "id": "RjwM8HRfGTo0"
      },
      "outputs": [],
      "source": [
        "# Perceptron class\n",
        "class Perceptron:\n",
        "    def __init__(self, learning_rate=0.01, n_iter=1000):\n",
        "        self.learning_rate = learning_rate\n",
        "        self.n_iter = n_iter\n",
        "\n",
        "    def fit(self, X, y):\n",
        "        self.weights = np.zeros(X.shape[1] + 1)\n",
        "        self.errors_ = []\n",
        "\n",
        "        for _ in range(self.n_iter):\n",
        "            errors = 0\n",
        "            for xi, target in zip(X, y):\n",
        "                update = self.learning_rate * (target - self.predict(xi))\n",
        "                self.weights[1:] += update * xi\n",
        "                self.weights[0] += update\n",
        "                errors += int(update != 0.0)\n",
        "            self.errors_.append(errors)\n",
        "\n",
        "    def predict(self, X):\n",
        "        return np.where(self._net_input(X) >= 0.0, 1, 0)\n",
        "\n",
        "    def _net_input(self, X):\n",
        "        return np.dot(X, self.weights[1:]) + self.weights[0]"
      ]
    },
    {
      "cell_type": "code",
      "source": [
        "# Generate data\n",
        "X, y = generate_data()"
      ],
      "metadata": {
        "id": "i_rPW4XOINWR"
      },
      "execution_count": 12,
      "outputs": []
    },
    {
      "cell_type": "code",
      "source": [
        "# Initialize and train the Perceptron\n",
        "perceptron = Perceptron(learning_rate=0.01, n_iter=10)\n",
        "perceptron.fit(X, y)"
      ],
      "metadata": {
        "id": "kCoF8paiHyre"
      },
      "execution_count": 13,
      "outputs": []
    },
    {
      "cell_type": "code",
      "source": [
        "decision_boundary(X, y, perceptron)"
      ],
      "metadata": {
        "colab": {
          "base_uri": "https://localhost:8080/",
          "height": 472
        },
        "id": "zhwUxLe8IRhZ",
        "outputId": "47ffcb8a-1f89-416a-a623-9be2c66ee5e3"
      },
      "execution_count": 14,
      "outputs": [
        {
          "output_type": "display_data",
          "data": {
            "text/plain": [
              "<Figure size 640x480 with 1 Axes>"
            ],
            "image/png": "[encoded data removed]"
          },
          "metadata": {}
        }
      ]
    },
    {
      "cell_type": "code",
      "source": [
        "print(f\"Training errors in each epoch: {perceptron.errors_}\")"
      ],
      "metadata": {
        "colab": {
          "base_uri": "https://localhost:8080/"
        },
        "id": "RzckZSA5IeiF",
        "outputId": "0cfc244f-ff56-4b97-be22-086430ba3bf8"
      },
      "execution_count": 16,
      "outputs": [
        {
          "output_type": "stream",
          "name": "stdout",
          "text": [
            "Training errors in each epoch: [11, 5, 5, 5, 4, 2, 4, 0, 0, 0]\n"
          ]
        }
      ]
    },
    {
      "cell_type": "code",
      "source": [],
      "metadata": {
        "id": "GgItbCgiIqJi"
      },
      "execution_count": 15,
      "outputs": []
    }
  ]
}